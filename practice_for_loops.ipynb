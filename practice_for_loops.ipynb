{
 "cells": [
  {
   "cell_type": "code",
   "execution_count": 1,
   "id": "03c55fec",
   "metadata": {},
   "outputs": [
    {
     "name": "stdout",
     "output_type": "stream",
     "text": [
      "item1\n",
      "item2\n",
      "item3\n",
      "item4\n"
     ]
    }
   ],
   "source": [
    "# List of items\n",
    "list_of_items=[\"item1\",\"item2\",\"item3\",\"item4\"]\n",
    "for item in list_of_items:\n",
    "    print(item)"
   ]
  },
  {
   "cell_type": "code",
   "execution_count": 2,
   "id": "91312983",
   "metadata": {},
   "outputs": [
    {
     "name": "stdout",
     "output_type": "stream",
     "text": [
      "{'Thing': 'itemA', 'Type': 'type1'}\n",
      "{'Thing': 'itemB', 'Type': 'type1'}\n",
      "{'Thing': 'itemC', 'Type': 'type2'}\n",
      "{'Thing': 'ItemD', 'Type': 'type2'}\n"
     ]
    }
   ],
   "source": [
    "# Contents of dictionary\n",
    "dictionary_of_items = [{\"Thing\": \"itemA\", \"Type\":\"type1\"},\n",
    "                    {\"Thing\": \"itemB\", \"Type\":\"type1\"},\n",
    "                    {\"Thing\": \"itemC\", \"Type\":\"type2\"},\n",
    "                    {\"Thing\": \"ItemD\", \"Type\":\"type2\"}]\n",
    "for item in dictionary_of_items:\n",
    "    print(item)"
   ]
  },
  {
   "cell_type": "code",
   "execution_count": null,
   "id": "0f928859",
   "metadata": {},
   "outputs": [],
   "source": []
  }
 ],
 "metadata": {
  "kernelspec": {
   "display_name": "PythonData",
   "language": "python",
   "name": "pythondata"
  },
  "language_info": {
   "codemirror_mode": {
    "name": "ipython",
    "version": 3
   },
   "file_extension": ".py",
   "mimetype": "text/x-python",
   "name": "python",
   "nbconvert_exporter": "python",
   "pygments_lexer": "ipython3",
   "version": "3.7.10"
  }
 },
 "nbformat": 4,
 "nbformat_minor": 5
}
